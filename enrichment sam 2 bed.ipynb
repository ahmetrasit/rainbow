{
 "cells": [
  {
   "cell_type": "code",
   "execution_count": 3,
   "metadata": {
    "collapsed": true
   },
   "outputs": [],
   "source": [
    "import pandas as pd\n",
    "with open('wago1_enriched.genome.sam') as f:\n",
    "    data = [line.strip().split(\"\\t\",5) for line in f.readlines()]"
   ]
  },
  {
   "cell_type": "code",
   "execution_count": 17,
   "metadata": {
    "collapsed": true
   },
   "outputs": [],
   "source": [
    "df = pd.DataFrame(data)\n",
    "df.columns = ['col', 'flag', 'chrom', 'start', 'mapq', 'rest']"
   ]
  },
  {
   "cell_type": "code",
   "execution_count": 7,
   "metadata": {
    "collapsed": true
   },
   "outputs": [],
   "source": []
  },
  {
   "cell_type": "code",
   "execution_count": 21,
   "metadata": {
    "collapsed": true
   },
   "outputs": [],
   "source": [
    "def getRatio(col):\n",
    "    seq, inp, ip = col.split(\":\")\n",
    "    ip = float(ip)\n",
    "    inp = float(inp)\n",
    "    if inp >= 1:\n",
    "        return '{:.2f}'.format(ip/inp)\n",
    "    else:\n",
    "        return '{:.2f}'.format(ip)\n",
    "    \n",
    "\n",
    "def getStrand(x):\n",
    "    x = int(x)\n",
    "    if x == 0 or x == 256:\n",
    "        return '+'\n",
    "    elif x == 16 or x == 272:\n",
    "        return '-'\n",
    "    else:\n",
    "        return '.'\n",
    "\n",
    "df['seq'] = df['col'].map(lambda x: x.split(\":\")[0])\n",
    "df['ratio'] = df['col'].map(lambda x: getRatio(x))\n",
    "df['end'] = df.apply(lambda row:int(row['start'])+len(row['seq']) , axis=1)\n",
    "df['strand'] = df['flag'].map(lambda x: getStrand(x))"
   ]
  },
  {
   "cell_type": "code",
   "execution_count": 23,
   "metadata": {
    "collapsed": true
   },
   "outputs": [],
   "source": [
    "df[['chrom', 'start', 'end', 'strand', 'seq', 'ratio', 'mapq']].to_csv('wago1_22Gs.bed', sep='\\t', index=None, header=None)"
   ]
  },
  {
   "cell_type": "code",
   "execution_count": null,
   "metadata": {
    "collapsed": true
   },
   "outputs": [],
   "source": []
  },
  {
   "cell_type": "code",
   "execution_count": 24,
   "metadata": {
    "collapsed": true
   },
   "outputs": [],
   "source": [
    "a,b,*c = range(10)"
   ]
  },
  {
   "cell_type": "code",
   "execution_count": 28,
   "metadata": {},
   "outputs": [
    {
     "data": {
      "text/plain": [
       "(0, 1, [2, 3, 4, 5, 6, 7, 8, 9])"
      ]
     },
     "execution_count": 28,
     "metadata": {},
     "output_type": "execute_result"
    }
   ],
   "source": [
    "(a,b,c)"
   ]
  }
 ],
 "metadata": {
  "kernelspec": {
   "display_name": "Python 3",
   "language": "python",
   "name": "python3"
  },
  "language_info": {
   "codemirror_mode": {
    "name": "ipython",
    "version": 3
   },
   "file_extension": ".py",
   "mimetype": "text/x-python",
   "name": "python",
   "nbconvert_exporter": "python",
   "pygments_lexer": "ipython3",
   "version": "3.6.4"
  }
 },
 "nbformat": 4,
 "nbformat_minor": 2
}
